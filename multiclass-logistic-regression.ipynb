{
 "cells": [
  {
   "cell_type": "markdown",
   "metadata": {},
   "source": [
    "# MNIST Classification using logistic regression\n",
    "\n",
    "The following guide outlines the steps and proccedures\n",
    "to employ to complete the task."
   ]
  },
  {
   "cell_type": "markdown",
   "metadata": {},
   "source": [
    "#### 1. import MNIST Test set data"
   ]
  },
  {
   "cell_type": "code",
   "execution_count": null,
   "metadata": {
    "collapsed": true
   },
   "outputs": [],
   "source": [
    "import scipy.io as spio\n",
    "import numpy as np\n",
    "from scipy import optimize\n",
    "from costFunction import costFunction, optimizableCostFunction, gradFunction\n",
    "\n",
    "\n",
    "mat = spio.loadmat('ex3data1.mat')\n",
    "X = mat['X']\n",
    "y = mat['y']"
   ]
  },
  {
   "cell_type": "markdown",
   "metadata": {},
   "source": [
    "#### 2. Minimize cost function for all y categories"
   ]
  },
  {
   "cell_type": "code",
   "execution_count": null,
   "metadata": {
    "collapsed": true
   },
   "outputs": [],
   "source": [
    "theta = np.zeros((400,1))\n",
    "thetas = np.ndarray((10,400))"
   ]
  },
  {
   "cell_type": "code",
   "execution_count": null,
   "metadata": {},
   "outputs": [],
   "source": [
    "for i in range(10):\n",
    "    y_eval = (y == i + 1) * 1 \n",
    "    args = (X, y_eval, 0.1)\n",
    "    \n",
    "    result = optimize.minimize(optimizableCostFunction, x0 = theta, args=args, method='BFGS', jac=gradFunction, options={'disp': True})\n",
    "\n",
    "    index = i + 1\n",
    "    \n",
    "    #maps 10 to index 0\n",
    "    if(i == 9):\n",
    "        index = 0\n",
    "    \n",
    "    thetas[index,:] = result.x\n",
    "    "
   ]
  },
  {
   "cell_type": "markdown",
   "metadata": {},
   "source": [
    "#### 3. Check accuracy of hipothesis against trainning set"
   ]
  },
  {
   "cell_type": "code",
   "execution_count": null,
   "metadata": {
    "collapsed": true
   },
   "outputs": [],
   "source": [
    "activations = X.dot(thetas.T)"
   ]
  },
  {
   "cell_type": "code",
   "execution_count": null,
   "metadata": {
    "collapsed": true
   },
   "outputs": [],
   "source": [
    "p = np.empty((len(activations)))\n",
    "\n",
    "for i in range(0, len(activations)):\n",
    "    \n",
    "    idx = np.argmax(activations[i])\n",
    "    \n",
    "    #reverse map index 0\n",
    "    if(idx == 0):\n",
    "        p[i] = 10\n",
    "    else:\n",
    "        p[i] = idx"
   ]
  },
  {
   "cell_type": "code",
   "execution_count": null,
   "metadata": {
    "collapsed": true
   },
   "outputs": [],
   "source": [
    "p = np.reshape(p, (len(p), 1))"
   ]
  },
  {
   "cell_type": "code",
   "execution_count": null,
   "metadata": {},
   "outputs": [],
   "source": [
    "np.mean(((p == y) *100))"
   ]
  }
 ],
 "metadata": {
  "kernelspec": {
   "display_name": "Python 2",
   "language": "python",
   "name": "python2"
  },
  "language_info": {
   "codemirror_mode": {
    "name": "ipython",
    "version": 2
   },
   "file_extension": ".py",
   "mimetype": "text/x-python",
   "name": "python",
   "nbconvert_exporter": "python",
   "pygments_lexer": "ipython2",
   "version": "2.7.14"
  }
 },
 "nbformat": 4,
 "nbformat_minor": 2
}
