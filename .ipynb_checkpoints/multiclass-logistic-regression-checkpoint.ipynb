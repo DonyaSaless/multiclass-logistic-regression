{
 "cells": [
  {
   "cell_type": "markdown",
   "metadata": {},
   "source": [
    "# MNIST Classification using logistic regression\n",
    "\n",
    "The following guide outlines the steps and proccedures\n",
    "to employ to complete the task."
   ]
  },
  {
   "cell_type": "markdown",
   "metadata": {},
   "source": [
    "#### 1. import MNIST Test set data"
   ]
  },
  {
   "cell_type": "code",
   "execution_count": 1,
   "metadata": {},
   "outputs": [],
   "source": [
    "import scipy.io as spio\n",
    "import numpy as np\n",
    "from scipy import optimize\n",
    "from costFunction import costFunction, optimizableCostFunction, gradFunction\n",
    "\n",
    "\n",
    "mat = spio.loadmat('ex3data1.mat')\n",
    "X = mat['X']\n",
    "y = mat['y']"
   ]
  },
  {
   "cell_type": "markdown",
   "metadata": {},
   "source": [
    "#### 2. Minimize cost function for all y categories"
   ]
  },
  {
   "cell_type": "code",
   "execution_count": null,
   "metadata": {
    "collapsed": true
   },
   "outputs": [],
   "source": [
    "theta = np.zeros((400,1))\n",
    "thetas = np.ndarray((10,400))"
   ]
  },
  {
   "cell_type": "code",
   "execution_count": null,
   "metadata": {},
   "outputs": [
    {
     "name": "stdout",
     "output_type": "stream",
     "text": [
      "Optimization terminated successfully.\n",
      "         Current function value: 0.013725\n",
      "         Iterations: 296\n",
      "         Function evaluations: 297\n",
      "         Gradient evaluations: 297\n",
      "Optimization terminated successfully.\n",
      "         Current function value: 0.054749\n",
      "         Iterations: 450\n",
      "         Function evaluations: 451\n",
      "         Gradient evaluations: 451\n",
      "Optimization terminated successfully.\n",
      "         Current function value: 0.068089\n",
      "         Iterations: 446\n",
      "         Function evaluations: 447\n",
      "         Gradient evaluations: 447\n",
      "Optimization terminated successfully.\n",
      "         Current function value: 0.034000\n",
      "         Iterations: 408\n",
      "         Function evaluations: 409\n",
      "         Gradient evaluations: 409\n",
      "Optimization terminated successfully.\n",
      "         Current function value: 0.054523\n",
      "         Iterations: 447\n",
      "         Function evaluations: 448\n",
      "         Gradient evaluations: 448\n"
     ]
    }
   ],
   "source": [
    "for i in range(10):\n",
    "    y_eval = (y == i + 1) * 1 \n",
    "    args = (X, y_eval, 0.1)\n",
    "    \n",
    "    result = optimize.minimize(optimizableCostFunction, x0 = theta, args=args, method='BFGS', jac=gradFunction, options={'disp': True})\n",
    "\n",
    "    index = i + 1\n",
    "    \n",
    "    #maps 10 to index 0\n",
    "    if(i == 9):\n",
    "        index = 0\n",
    "    \n",
    "    thetas[index,:] = result.x\n",
    "    "
   ]
  },
  {
   "cell_type": "markdown",
   "metadata": {},
   "source": [
    "#### 3. Check accuracy of hipothesis against trainning set"
   ]
  },
  {
   "cell_type": "code",
   "execution_count": null,
   "metadata": {
    "collapsed": true
   },
   "outputs": [],
   "source": [
    "activations = X.dot(thetas.T)"
   ]
  },
  {
   "cell_type": "code",
   "execution_count": null,
   "metadata": {
    "collapsed": true
   },
   "outputs": [],
   "source": [
    "p = np.empty((len(activations)))\n",
    "\n",
    "for i in range(0, len(activations)):\n",
    "    \n",
    "    idx = np.argmax(activations[i])\n",
    "    \n",
    "    #reverse map index 0\n",
    "    if(idx == 0):\n",
    "        p[i] = 10\n",
    "    else:\n",
    "        p[i] = idx"
   ]
  },
  {
   "cell_type": "code",
   "execution_count": null,
   "metadata": {
    "collapsed": true
   },
   "outputs": [],
   "source": [
    "p = np.reshape(p, (len(p), 1))"
   ]
  },
  {
   "cell_type": "code",
   "execution_count": null,
   "metadata": {},
   "outputs": [],
   "source": [
    "np.mean(((p == y) *100))"
   ]
  }
 ],
 "metadata": {
  "kernelspec": {
   "display_name": "Python 2",
   "language": "python",
   "name": "python2"
  },
  "language_info": {
   "codemirror_mode": {
    "name": "ipython",
    "version": 2
   },
   "file_extension": ".py",
   "mimetype": "text/x-python",
   "name": "python",
   "nbconvert_exporter": "python",
   "pygments_lexer": "ipython2",
   "version": "2.7.14"
  }
 },
 "nbformat": 4,
 "nbformat_minor": 2
}
